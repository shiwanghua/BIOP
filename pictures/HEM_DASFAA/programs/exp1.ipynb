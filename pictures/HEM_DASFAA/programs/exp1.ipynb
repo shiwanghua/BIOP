{
 "cells": [
  {
   "cell_type": "code",
   "execution_count": 1,
   "id": "8cbe29d3",
   "metadata": {},
   "outputs": [
    {
     "ename": "SyntaxError",
     "evalue": "invalid syntax (3178081394.py, line 4)",
     "output_type": "error",
     "traceback": [
      "\u001b[0;36m  File \u001b[0;32m\"/tmp/ipykernel_27744/3178081394.py\"\u001b[0;36m, line \u001b[0;32m4\u001b[0m\n\u001b[0;31m    Rein = [6.817679\t6.830059\t6.81814\t6.837105\t6.818885\t6.82175\t6.822016\t6.841621\t6.806594\t6.854903]\u001b[0m\n\u001b[0m                    \t^\u001b[0m\n\u001b[0;31mSyntaxError\u001b[0m\u001b[0;31m:\u001b[0m invalid syntax\n"
     ]
    }
   ],
   "source": [
    "from matplotlib import pyplot as plt \n",
    "\n",
    "be = [0, 1, 2, 3, 4, 5, 6, 7, 8, 9]\n",
    "Rein = [6.817679\t6.830059\t6.81814\t6.837105\t6.818885\t6.82175\t6.822016\t6.841621\t6.806594\t6.854903]\n",
    "BIOP0PS = [4.013783\t4.018383\t2.324436\t1.193692\t0.624261\t0.318925\t0.161674\t0.079613\t0.036091\t0.012815]\n",
    "BIOP1SS = [4.349099\t2.71147\t1.296991\t0.722027\t0.426176\t0.269556\t0.185458\t0.134792\t0.099483\t0.062853]\n",
    "BIOP2SD = [3.726824\t2.130125\t1.253618\t0.67853\t0.395699\t0.244584\t0.157231\t0.113065\t0.078423\t0.0505]\n",
    "BIOP3PD = [3.453845\t3.450873\t1.740693\t0.866495\t0.44478\t0.221289\t0.110529\t0.056167\t0.025463\t0.010273]\n",
    "BIOP4DS = [3.296822\t2.489885\t1.498227\t0.844949\t0.473075\t0.272294\t0.17711\t0.125551\t0.082788\t0.035308]\n",
    "BIOP5DD = [2.608424\t1.817173\t0.957682\t0.515203\t0.303935\t0.187489\t0.12812\t0.092957\t0.065522\t0.029597]\n",
    "Simple = [13.297686\t13.251958\t13.282044\t13.262612\t13.299794\t13.278775\t13.399269\t13.30123\t13.265576\t13.273719]\n",
    "\n",
    "Name = [\"Rein\", \"BIOPPS\", \"BIOPSS\", \"BIOPSD\", \"BIOPPD\", \"BIOPDS\", \"BIOPDD\", \"Simple\", \"Simple2\"]\n"
   ]
  },
  {
   "cell_type": "code",
   "execution_count": null,
   "id": "4a526ddc",
   "metadata": {},
   "outputs": [],
   "source": [
    "plt.figure()\n",
    "# plt.plot(be, Rein, marker='o', color='r', label=Name[0])\n",
    "plt.plot(be, BIOP0PS, marker='x', color='b', label=Name[1])\n",
    "plt.plot(be, BIOP1SS, marker='+', color='g', label=Name[2])\n",
    "plt.plot(be, BIOP2SD, marker='*', color='c', label=Name[3])\n",
    "plt.plot(be, BIOP3PD, marker='^', color='m', label=Name[4])\n",
    "plt.plot(be, BIOP4DS, marker='s', color='y', label=Name[5])\n",
    "plt.plot(be, BIOP5DD, marker='.', color='k', label=Name[6])\n",
    "# plt.plot(be, Simple, marker='D', color='aliceblue', label=Name[7])\n",
    "plt.legend()\n",
    "plt.xlabel('Bit Exponent')\n",
    "plt.ylabel('Marking Time (ms)')\n",
    "fig = plt.gcf()\n",
    "plt.show()\n",
    "fig.savefig('bemarking.pdf')"
   ]
  }
 ],
 "metadata": {
  "kernelspec": {
   "display_name": "Python 3 (ipykernel)",
   "language": "python",
   "name": "python3"
  },
  "language_info": {
   "codemirror_mode": {
    "name": "ipython",
    "version": 3
   },
   "file_extension": ".py",
   "mimetype": "text/x-python",
   "name": "python",
   "nbconvert_exporter": "python",
   "pygments_lexer": "ipython3",
   "version": "3.8.10"
  }
 },
 "nbformat": 4,
 "nbformat_minor": 5
}
